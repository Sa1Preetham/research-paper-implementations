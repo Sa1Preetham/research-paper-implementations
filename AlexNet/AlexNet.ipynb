{
 "cells": [
  {
   "cell_type": "code",
   "execution_count": 49,
   "metadata": {},
   "outputs": [],
   "source": [
    "import torch\n",
    "import numpy as np\n",
    "import cv2 as cv\n",
    "import torch.nn as nn\n",
    "import torchvision.transforms as transforms"
   ]
  },
  {
   "cell_type": "code",
   "execution_count": 82,
   "metadata": {},
   "outputs": [
    {
     "data": {
      "text/plain": [
       "AlexNet(\n",
       "  (relu): ReLU()\n",
       "  (maxPool): MaxPool2d(kernel_size=3, stride=2, padding=0, dilation=1, ceil_mode=False)\n",
       "  (lrn): LocalResponseNorm(5, alpha=0.0001, beta=0.75, k=2)\n",
       "  (dropout): Dropout(p=0.5, inplace=False)\n",
       "  (flatten): Flatten(start_dim=1, end_dim=-1)\n",
       "  (maxPool2): MaxPool2d(kernel_size=2, stride=2, padding=0, dilation=1, ceil_mode=False)\n",
       "  (conv1): Conv2d(3, 96, kernel_size=(11, 11), stride=(4, 4), padding=(2, 2))\n",
       "  (conv2): Conv2d(96, 256, kernel_size=(5, 5), stride=(1, 1), padding=(2, 2))\n",
       "  (conv3): Conv2d(256, 384, kernel_size=(3, 3), stride=(1, 1), padding=(1, 1))\n",
       "  (conv4): Conv2d(384, 384, kernel_size=(3, 3), stride=(1, 1), padding=(1, 1))\n",
       "  (conv5): Conv2d(384, 256, kernel_size=(3, 3), stride=(1, 1), padding=(1, 1))\n",
       "  (fn1): Linear(in_features=9216, out_features=4096, bias=True)\n",
       "  (fn2): Linear(in_features=4096, out_features=4096, bias=True)\n",
       "  (fn3): Linear(in_features=4096, out_features=1, bias=True)\n",
       ")"
      ]
     },
     "execution_count": 82,
     "metadata": {},
     "output_type": "execute_result"
    }
   ],
   "source": [
    "class AlexNet(nn.Module):\n",
    "\n",
    "    def __init__(self, n_classes = 1):\n",
    "        super(AlexNet, self).__init__()\n",
    "        \n",
    "        self.relu = nn.ReLU()\n",
    "        self.maxPool = nn.MaxPool2d(kernel_size=3, stride=2)\n",
    "        self.lrn = nn.LocalResponseNorm(size=5, k=2)\n",
    "        self.dropout = nn.Dropout(p=0.5)\n",
    "        self.flatten = nn.Flatten()\n",
    "        self.maxPool2 = nn.MaxPool2d(kernel_size=2, stride = 2)\n",
    "\n",
    "        self.conv1 = nn.Conv2d(in_channels=3, out_channels=96, kernel_size=11, stride=4, padding=2)\n",
    "        self.conv2 = nn.Conv2d(in_channels=96, out_channels=256, kernel_size=5, padding=2)\n",
    "        self.conv3 = nn.Conv2d(in_channels=256, out_channels=384, kernel_size=3, padding=1)\n",
    "        self.conv4 = nn.Conv2d(in_channels=384, out_channels=384, kernel_size=3, padding=1)\n",
    "        self.conv5 = nn.Conv2d(in_channels=384, out_channels=256, kernel_size=3, padding=1)\n",
    "\n",
    "\n",
    "\n",
    "        self.fn1 = nn.Linear(in_features=9216, out_features=4096)\n",
    "        self.fn2 = nn.Linear(in_features=4096, out_features=4096)\n",
    "        self.fn3 = nn.Linear(in_features=4096, out_features=n_classes)\n",
    "\n",
    "    def forward(self, x):\n",
    "        x = self.lrn(self.relu(self.conv1(x)))\n",
    "        x = self.maxPool(x)\n",
    "        print(x.shape)\n",
    "        x = self.lrn(self.relu(self.conv2(x)))\n",
    "        x = self.maxPool(x)\n",
    "        print(x.shape)\n",
    "        x = self.relu(self.conv3(x))\n",
    "        print(x.shape)\n",
    "        x = self.relu(self.conv4(x))\n",
    "        print(x.shape)\n",
    "        x = self.relu(self.conv5(x))\n",
    "        x = self.maxPool(x)\n",
    "        print(x.shape)\n",
    "        x = self.flatten(x)\n",
    "        print(x.shape)\n",
    "        x = self.relu(self.fn1(x))\n",
    "        x = self.dropout(x)\n",
    "        x = self.relu(self.fn2(x))\n",
    "        x = self.fn3(x)\n",
    "        return x\n",
    "    \n",
    "\n",
    "net = AlexNet()\n",
    "net\n"
   ]
  },
  {
   "cell_type": "code",
   "execution_count": 83,
   "metadata": {},
   "outputs": [
    {
     "name": "stdout",
     "output_type": "stream",
     "text": [
      "torch.Size([1, 96, 27, 27])\n",
      "torch.Size([1, 256, 13, 13])\n",
      "torch.Size([1, 384, 13, 13])\n",
      "torch.Size([1, 384, 13, 13])\n",
      "torch.Size([1, 256, 6, 6])\n",
      "torch.Size([1, 9216])\n"
     ]
    },
    {
     "data": {
      "text/plain": [
       "tensor([[0.1548]], grad_fn=<AddmmBackward0>)"
      ]
     },
     "execution_count": 83,
     "metadata": {},
     "output_type": "execute_result"
    }
   ],
   "source": [
    "img = cv.imread(\"image.png\")\n",
    "img = torch.Tensor([img])\n",
    "img_final = img.permute(0, 3, 1, 2)\n",
    "img_final.shape\n",
    "net = AlexNet()\n",
    "net(img_final)\n"
   ]
  },
  {
   "cell_type": "code",
   "execution_count": null,
   "metadata": {},
   "outputs": [],
   "source": []
  }
 ],
 "metadata": {
  "kernelspec": {
   "display_name": "Python 3",
   "language": "python",
   "name": "python3"
  },
  "language_info": {
   "codemirror_mode": {
    "name": "ipython",
    "version": 3
   },
   "file_extension": ".py",
   "mimetype": "text/x-python",
   "name": "python",
   "nbconvert_exporter": "python",
   "pygments_lexer": "ipython3",
   "version": "3.12.2"
  }
 },
 "nbformat": 4,
 "nbformat_minor": 2
}
